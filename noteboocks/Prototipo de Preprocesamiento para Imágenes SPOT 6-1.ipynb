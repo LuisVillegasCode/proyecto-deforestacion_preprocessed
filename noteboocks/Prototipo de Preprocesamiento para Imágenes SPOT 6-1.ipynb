{
 "cells": [
  {
   "cell_type": "markdown",
   "metadata": {
    "id": "ft7MDeSmbcu_"
   },
   "source": [
    "Este notebook implementa un pipeline de preprocesamiento para un producto satelital SPOT 6 (Nivel ORTHO). El código realiza la calibración radiométrica, una corrección atmosférica (usando el método DOS1) y el enmascaramiento de nubes a partir de la máscara oficial del producto, refinando sus bordes mediante dilatación morfológica.\n",
    "\n",
    "El script está diseñado para procesar una pequeña \"ventana\" o subconjunto de la imagen, permitiendo realizar pruebas de calidad y desarrollo de forma rápida y con bajo consumo de recursos. El resultado final es un archivo GeoTIFF listo para el análisis (analysis_ready_data), con los valores escalados a UInt16."
   ]
  },
  {
   "cell_type": "code",
   "execution_count": null,
   "metadata": {
    "colab": {
     "base_uri": "https://localhost:8080/"
    },
    "collapsed": true,
    "executionInfo": {
     "elapsed": 15029,
     "status": "ok",
     "timestamp": 1753286900869,
     "user": {
      "displayName": "Almacenamiento UNI",
      "userId": "09072782047724847226"
     },
     "user_tz": 300
    },
    "id": "An1RjOodMN9I",
    "outputId": "46f0d889-14ad-450b-f2d6-5592e3bf8a3f"
   },
   "outputs": [
    {
     "name": "stdout",
     "output_type": "stream",
     "text": [
      "Drive already mounted at /content/drive; to attempt to forcibly remount, call drive.mount(\"/content/drive\", force_remount=True).\n"
     ]
    }
   ],
   "source": [
    "from google.colab import drive\n",
    "drive.mount('/content/drive')"
   ]
  },
  {
   "cell_type": "code",
   "execution_count": null,
   "metadata": {
    "colab": {
     "base_uri": "https://localhost:8080/"
    },
    "collapsed": true,
    "executionInfo": {
     "elapsed": 11289,
     "status": "ok",
     "timestamp": 1753286920755,
     "user": {
      "displayName": "Almacenamiento UNI",
      "userId": "09072782047724847226"
     },
     "user_tz": 300
    },
    "id": "vEOMTtQdMgJH",
    "outputId": "3cb5f087-ba53-4d33-96b1-52d1daa8b9de"
   },
   "outputs": [
    {
     "name": "stdout",
     "output_type": "stream",
     "text": [
      "Collecting rasterio\n",
      "  Downloading rasterio-1.4.3-cp311-cp311-manylinux_2_17_x86_64.manylinux2014_x86_64.whl.metadata (9.1 kB)\n",
      "Requirement already satisfied: geopandas in /usr/local/lib/python3.11/dist-packages (1.1.1)\n",
      "Requirement already satisfied: scipy in /usr/local/lib/python3.11/dist-packages (1.16.0)\n",
      "Collecting affine (from rasterio)\n",
      "  Downloading affine-2.4.0-py3-none-any.whl.metadata (4.0 kB)\n",
      "Requirement already satisfied: attrs in /usr/local/lib/python3.11/dist-packages (from rasterio) (25.3.0)\n",
      "Requirement already satisfied: certifi in /usr/local/lib/python3.11/dist-packages (from rasterio) (2025.7.14)\n",
      "Requirement already satisfied: click>=4.0 in /usr/local/lib/python3.11/dist-packages (from rasterio) (8.2.1)\n",
      "Collecting cligj>=0.5 (from rasterio)\n",
      "  Downloading cligj-0.7.2-py3-none-any.whl.metadata (5.0 kB)\n",
      "Requirement already satisfied: numpy>=1.24 in /usr/local/lib/python3.11/dist-packages (from rasterio) (2.0.2)\n",
      "Collecting click-plugins (from rasterio)\n",
      "  Downloading click_plugins-1.1.1.2-py2.py3-none-any.whl.metadata (6.5 kB)\n",
      "Requirement already satisfied: pyparsing in /usr/local/lib/python3.11/dist-packages (from rasterio) (3.2.3)\n",
      "Requirement already satisfied: pyogrio>=0.7.2 in /usr/local/lib/python3.11/dist-packages (from geopandas) (0.11.0)\n",
      "Requirement already satisfied: packaging in /usr/local/lib/python3.11/dist-packages (from geopandas) (25.0)\n",
      "Requirement already satisfied: pandas>=2.0.0 in /usr/local/lib/python3.11/dist-packages (from geopandas) (2.2.2)\n",
      "Requirement already satisfied: pyproj>=3.5.0 in /usr/local/lib/python3.11/dist-packages (from geopandas) (3.7.1)\n",
      "Requirement already satisfied: shapely>=2.0.0 in /usr/local/lib/python3.11/dist-packages (from geopandas) (2.1.1)\n",
      "Requirement already satisfied: python-dateutil>=2.8.2 in /usr/local/lib/python3.11/dist-packages (from pandas>=2.0.0->geopandas) (2.9.0.post0)\n",
      "Requirement already satisfied: pytz>=2020.1 in /usr/local/lib/python3.11/dist-packages (from pandas>=2.0.0->geopandas) (2025.2)\n",
      "Requirement already satisfied: tzdata>=2022.7 in /usr/local/lib/python3.11/dist-packages (from pandas>=2.0.0->geopandas) (2025.2)\n",
      "Requirement already satisfied: six>=1.5 in /usr/local/lib/python3.11/dist-packages (from python-dateutil>=2.8.2->pandas>=2.0.0->geopandas) (1.17.0)\n",
      "Downloading rasterio-1.4.3-cp311-cp311-manylinux_2_17_x86_64.manylinux2014_x86_64.whl (22.2 MB)\n",
      "\u001b[2K   \u001b[90m━━━━━━━━━━━━━━━━━━━━━━━━━━━━━━━━━━━━━━━━\u001b[0m \u001b[32m22.2/22.2 MB\u001b[0m \u001b[31m81.2 MB/s\u001b[0m eta \u001b[36m0:00:00\u001b[0m\n",
      "\u001b[?25hDownloading cligj-0.7.2-py3-none-any.whl (7.1 kB)\n",
      "Downloading affine-2.4.0-py3-none-any.whl (15 kB)\n",
      "Downloading click_plugins-1.1.1.2-py2.py3-none-any.whl (11 kB)\n",
      "Installing collected packages: cligj, click-plugins, affine, rasterio\n",
      "Successfully installed affine-2.4.0 click-plugins-1.1.1.2 cligj-0.7.2 rasterio-1.4.3\n"
     ]
    }
   ],
   "source": [
    "!pip install rasterio geopandas scipy"
   ]
  },
  {
   "cell_type": "code",
   "execution_count": 3,
   "metadata": {
    "executionInfo": {
     "elapsed": 3545,
     "status": "ok",
     "timestamp": 1753286934218,
     "user": {
      "displayName": "Almacenamiento UNI",
      "userId": "09072782047724847226"
     },
     "user_tz": 300
    },
    "id": "O1vYE5J7MtR1"
   },
   "outputs": [],
   "source": [
    "# ===================================================================\n",
    "# PASO 2: IMPORTAR LIBRERÍAS Y DEFINIR CLASES\n",
    "# ===================================================================\n",
    "from abc import ABC, abstractmethod\n",
    "import xml.etree.ElementTree as ET\n",
    "from pathlib import Path\n",
    "import rasterio\n",
    "from rasterio.windows import Window\n",
    "from rasterio.merge import merge\n",
    "from rasterio.features import rasterize\n",
    "import geopandas as gpd\n",
    "import numpy as np\n",
    "import math\n",
    "from scipy.ndimage import binary_dilation\n",
    "\n",
    "class Producto_Satelital_Base(ABC):\n",
    "    def __init__(self, ruta_producto: Path, ruta_salida: Path):\n",
    "        if not ruta_producto.is_dir():\n",
    "            raise FileNotFoundError(f\"La ruta del producto no existe: {ruta_producto}\")\n",
    "        self.ruta_base = ruta_producto\n",
    "        self.ruta_salida = ruta_salida\n",
    "        self.metadatos = {}\n",
    "        self.ruta_salida_producto = self.ruta_salida / self.ruta_base.name\n",
    "        self.ruta_salida_producto.mkdir(parents=True, exist_ok=True)\n",
    "        self._leer_metadatos()\n",
    "\n",
    "    @abstractmethod\n",
    "    def _leer_metadatos(self): pass\n",
    "    @abstractmethod\n",
    "    def ejecutar_preprocesamiento(self, ventana: Window = None): pass\n",
    "\n",
    "class ProductoSPOT6(Producto_Satelital_Base):\n",
    "    def _leer_metadatos(self):\n",
    "        xml_files = list(self.ruta_base.rglob('DIM_*.XML'))\n",
    "        if not xml_files:\n",
    "            raise FileNotFoundError(f\"No se encontró el archivo DIM XML principal en {self.ruta_base} o sus subcarpetas.\")\n",
    "\n",
    "        xml_path = xml_files[0]\n",
    "        tree = ET.parse(xml_path)\n",
    "        root = tree.getroot()\n",
    "\n",
    "        self.metadatos['nivel_procesamiento'] = root.find('.//PROCESSING_LEVEL').text\n",
    "        center_located_values = root.find(\".//Located_Geometric_Values[LOCATION_TYPE='Center']\")\n",
    "        self.metadatos['elevacion_solar'] = float(center_located_values.find(\".//SUN_ELEVATION\").text)\n",
    "        self.metadatos['ganancias'] = {b.find('BAND_ID').text: float(b.find('GAIN').text) for b in root.findall(\".//Band_Radiance\")}\n",
    "        self.metadatos['bias'] = {b.find('BAND_ID').text: float(b.find('BIAS').text) for b in root.findall(\".//Band_Radiance\")}\n",
    "        self.metadatos['irradiancias'] = {b.find('BAND_ID').text: float(b.find('VALUE').text) for b in root.findall(\".//Band_Solar_Irradiance\")}\n",
    "        cloud_mask_node = root.find(\".//MEASURE_NAME[.='Cloud_Cotation (CLD)']/../Quality_Mask/Component/COMPONENT_PATH\")\n",
    "        if cloud_mask_node is not None:\n",
    "             self.metadatos['mascara_nubes_gml'] = xml_path.parent / cloud_mask_node.attrib['href']\n",
    "        self.metadatos['band_order'] = [b.find('BAND_ID').text for b in root.findall(\".//Raster_Index\")]\n",
    "        self.metadatos['rutas_tifs'] = [xml_path.parent / f.attrib['href'] for f in root.findall(\".//Data_File/DATA_FILE_PATH\")]\n",
    "        print(f\"Metadatos de {self.ruta_base.name} cargados exitosamente.\")\n",
    "\n",
    "    def ejecutar_preprocesamiento(self, ventana: Window = None):\n",
    "        print(f\"--- Iniciando Pipeline de Preprocesamiento por Bloques para: {self.ruta_base.name} ---\")\n",
    "\n",
    "        vrt_path = self.ruta_salida_producto / 'source.vrt'\n",
    "        src_files_to_mosaic = [rasterio.open(fp) for fp in self.metadatos['rutas_tifs']]\n",
    "        merge(src_files_to_mosaic, dst_path=str(vrt_path))\n",
    "\n",
    "        with rasterio.open(vrt_path) as src:\n",
    "            # Si no se define una ventana, se procesa todo.\n",
    "            if ventana is None:\n",
    "                ventana = Window(0, 0, src.width, src.height)\n",
    "\n",
    "            # --- NUEVO PASO: GUARDAR EL RECORTE DE LA IMAGEN CRUDA ---\n",
    "            print(\"  -> Guardando recorte de la imagen cruda...\")\n",
    "            raw_crop_data = src.read(window=ventana)\n",
    "            crop_profile = src.profile\n",
    "            crop_profile.update(height=ventana.height, width=ventana.width, transform=src.window_transform(ventana))\n",
    "            raw_crop_path = self.ruta_salida_producto / 'imagen_cruda_recortada.tif'\n",
    "            with rasterio.open(raw_crop_path, 'w', **crop_profile) as dst:\n",
    "                dst.write(raw_crop_data)\n",
    "            print(f\"     Recorte crudo guardado en: {raw_crop_path.name}\")\n",
    "            # -----------------------------------------------------------\n",
    "\n",
    "            profile = src.profile\n",
    "            nodata_value_uint16 = 0\n",
    "            profile.update(dtype=rasterio.uint16, nodata=nodata_value_uint16, height=ventana.height, width=ventana.width, transform=src.window_transform(ventana))\n",
    "\n",
    "            suffix = \"_SUBSET\" if ventana else \"\"\n",
    "            path_final = self.ruta_salida_producto / f'analysis_ready_data{suffix}.tif'\n",
    "\n",
    "            print(\"  -> Preparando máscara de nubes...\")\n",
    "            ruta_mascara_gml = self.metadatos.get('mascara_nubes_gml')\n",
    "            if ruta_mascara_gml and ruta_mascara_gml.exists():\n",
    "                gdf_clouds = gpd.read_file(ruta_mascara_gml)\n",
    "                cloud_mask_base = rasterize(\n",
    "                    shapes=gdf_clouds.geometry, out_shape=(src.height, src.width), transform=src.transform,\n",
    "                    fill=0, all_touched=True, dtype=np.uint8\n",
    "                ).astype(bool)\n",
    "                cloud_mask_refinada = binary_dilation(cloud_mask_base, iterations=5)\n",
    "            else:\n",
    "                cloud_mask_refinada = np.zeros(src.shape, dtype=bool)\n",
    "                print(\"     Advertencia: No se encontró máscara de nubes.\")\n",
    "\n",
    "            with rasterio.open(path_final, 'w', **profile) as dst:\n",
    "                block_dn = src.read(window=ventana)\n",
    "\n",
    "                print(\"     Procesando bloque único...\")\n",
    "                block_rad = np.zeros_like(block_dn, dtype=np.float32)\n",
    "                for i in range(src.count):\n",
    "                    band_id = self.metadatos['band_order'][i]\n",
    "                    gain, bias = self.metadatos['ganancias'][band_id], self.metadatos['bias'][band_id]\n",
    "                    block_rad[i] = block_dn[i].astype(np.float32) / gain + bias\n",
    "\n",
    "                sun_zenith = 90.0 - self.metadatos['elevacion_solar']\n",
    "                block_ref = np.zeros_like(block_rad, dtype=np.float32)\n",
    "                for i in range(src.count):\n",
    "                    band_id = self.metadatos['band_order'][i]\n",
    "                    esun = self.metadatos['irradiancias'][band_id]\n",
    "                    dark_object = np.percentile(block_rad[i][block_rad[i] > 0], 1) if np.any(block_rad[i] > 0) else 0\n",
    "                    path_radiance = dark_object - 0.01 * (esun * math.cos(math.radians(sun_zenith))**2) / (math.pi * 1.0**2)\n",
    "                    numerator = math.pi * (block_rad[i] - path_radiance) * 1.0**2\n",
    "                    denominator = esun * math.cos(math.radians(sun_zenith))\n",
    "                    block_ref[i] = numerator / denominator\n",
    "\n",
    "                block_mask = cloud_mask_refinada[ventana.row_off:ventana.row_off+ventana.height, ventana.col_off:ventana.col_off+ventana.width]\n",
    "                block_ref_no_nan = np.where(np.stack([block_mask]*src.count), 0.0, block_ref)\n",
    "                block_scaled = (np.clip(block_ref_no_nan, 0, 1) * 10000).astype(rasterio.uint16)\n",
    "\n",
    "                dst.write(block_scaled)\n",
    "\n",
    "        print(f\"--- Pipeline Finalizado. Producto final guardado en: {path_final} ---\")\n",
    "        return path_final\n"
   ]
  },
  {
   "cell_type": "code",
   "execution_count": null,
   "metadata": {
    "colab": {
     "base_uri": "https://localhost:8080/"
    },
    "executionInfo": {
     "elapsed": 907905,
     "status": "ok",
     "timestamp": 1753287920626,
     "user": {
      "displayName": "Almacenamiento UNI",
      "userId": "09072782047724847226"
     },
     "user_tz": 300
    },
    "id": "foMB-kfJNuiS",
    "outputId": "0b7282f0-46f7-4a59-e109-34d4c5af9bb7"
   },
   "outputs": [
    {
     "name": "stdout",
     "output_type": "stream",
     "text": [
      "Mounted at /content/drive\n",
      "Metadatos de CO_2507090419315 cargados exitosamente.\n",
      "--- Iniciando Pipeline de Preprocesamiento por Bloques para: CO_2507090419315 ---\n",
      "  -> Guardando recorte de la imagen cruda...\n",
      "     Recorte crudo guardado en: imagen_cruda_recortada.tif\n",
      "  -> Preparando máscara de nubes...\n",
      "     Procesando bloque único...\n",
      "--- Pipeline Finalizado. Producto final guardado en: /content/drive/MyDrive/Colab Notebooks/data/processed/CO_2507090419315/analysis_ready_data_SUBSET.tif ---\n"
     ]
    }
   ],
   "source": [
    "# ===================================================================\n",
    "# PASO 3: CONFIGURAR RUTAS Y EJECUTAR\n",
    "# ===================================================================\n",
    "try:\n",
    "    from google.colab import drive\n",
    "    drive.mount('/content/drive', force_remount=True)\n",
    "\n",
    "    # --- CONFIGURACIÓN DE RUTAS ---\n",
    "    RUTA_BASE = Path('/content/drive/MyDrive/Colab Notebooks')\n",
    "    RUTA_DATOS_RAW = RUTA_BASE / \"data\" / \"raw\"\n",
    "    RUTA_DATOS_PROCESADOS = RUTA_BASE / \"data\" / \"processed\"\n",
    "\n",
    "    nombre_carpeta_imagen = \"CO_2507090419315\"\n",
    "    ruta_completa_imagen = RUTA_DATOS_RAW / nombre_carpeta_imagen\n",
    "\n",
    "    # --- DEFINICIÓN DE LA VENTANA DE PRUEBA ---\n",
    "    ventana_de_prueba = Window(6913, 7539, 1024, 1024)\n",
    "\n",
    "    # --- EJECUCIÓN ---\n",
    "    producto_spot = ProductoSPOT6(\n",
    "        ruta_producto=ruta_completa_imagen,\n",
    "        ruta_salida=RUTA_DATOS_PROCESADOS\n",
    "    )\n",
    "    producto_spot.ejecutar_preprocesamiento(ventana=ventana_de_prueba)\n",
    "\n",
    "except Exception as e:\n",
    "    print(f\"ERROR: Ha ocurrido un problema.\")\n",
    "    print(f\"Detalle: {e}\")"
   ]
  }
 ],
 "metadata": {
  "colab": {
   "authorship_tag": "ABX9TyNWq+VXDA1T9QFeDe7SS24K",
   "mount_file_id": "1XksW7lNjTcNKfmeBplIFc6VoupPRfOmj",
   "provenance": []
  },
  "kernelspec": {
   "display_name": "Python 3",
   "name": "python3"
  },
  "language_info": {
   "name": "python"
  }
 },
 "nbformat": 4,
 "nbformat_minor": 0
}
